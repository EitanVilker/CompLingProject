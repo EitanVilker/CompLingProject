{
  "nbformat": 4,
  "nbformat_minor": 0,
  "metadata": {
    "kernelspec": {
      "display_name": "Python 3",
      "language": "python",
      "name": "python3"
    },
    "language_info": {
      "codemirror_mode": {
        "name": "ipython",
        "version": 3
      },
      "file_extension": ".py",
      "mimetype": "text/x-python",
      "name": "python",
      "nbconvert_exporter": "python",
      "pygments_lexer": "ipython3",
      "version": "3.7.3"
    },
    "name": "NLP from Scratch: Annotated Attention",
    "colab": {
      "name": "hw6-4-attention-german-translation.ipynb",
      "provenance": [],
      "collapsed_sections": [],
      "include_colab_link": true
    },
    "accelerator": "GPU",
    "widgets": {
      "application/vnd.jupyter.widget-state+json": {
        "eb22d1bf80394cf09733940e625b7775": {
          "model_module": "@jupyter-widgets/controls",
          "model_name": "HBoxModel",
          "state": {
            "_view_name": "HBoxView",
            "_dom_classes": [],
            "_model_name": "HBoxModel",
            "_view_module": "@jupyter-widgets/controls",
            "_model_module_version": "1.5.0",
            "_view_count": null,
            "_view_module_version": "1.5.0",
            "box_style": "",
            "layout": "IPY_MODEL_7352c84ba4df4cfba6388aefd66f7039",
            "_model_module": "@jupyter-widgets/controls",
            "children": [
              "IPY_MODEL_c5772504017848cf9fb1cb90bdd96a9e",
              "IPY_MODEL_6400bf99a562415488ae81cc000a4736"
            ]
          }
        },
        "7352c84ba4df4cfba6388aefd66f7039": {
          "model_module": "@jupyter-widgets/base",
          "model_name": "LayoutModel",
          "state": {
            "_view_name": "LayoutView",
            "grid_template_rows": null,
            "right": null,
            "justify_content": null,
            "_view_module": "@jupyter-widgets/base",
            "overflow": null,
            "_model_module_version": "1.2.0",
            "_view_count": null,
            "flex_flow": null,
            "width": null,
            "min_width": null,
            "border": null,
            "align_items": null,
            "bottom": null,
            "_model_module": "@jupyter-widgets/base",
            "top": null,
            "grid_column": null,
            "overflow_y": null,
            "overflow_x": null,
            "grid_auto_flow": null,
            "grid_area": null,
            "grid_template_columns": null,
            "flex": null,
            "_model_name": "LayoutModel",
            "justify_items": null,
            "grid_row": null,
            "max_height": null,
            "align_content": null,
            "visibility": null,
            "align_self": null,
            "height": null,
            "min_height": null,
            "padding": null,
            "grid_auto_rows": null,
            "grid_gap": null,
            "max_width": null,
            "order": null,
            "_view_module_version": "1.2.0",
            "grid_template_areas": null,
            "object_position": null,
            "object_fit": null,
            "grid_auto_columns": null,
            "margin": null,
            "display": null,
            "left": null
          }
        },
        "c5772504017848cf9fb1cb90bdd96a9e": {
          "model_module": "@jupyter-widgets/controls",
          "model_name": "FloatProgressModel",
          "state": {
            "_view_name": "ProgressView",
            "style": "IPY_MODEL_d2eb1118d46249808f81ca96313ccf46",
            "_dom_classes": [],
            "description": "100%",
            "_model_name": "FloatProgressModel",
            "bar_style": "",
            "max": 227,
            "_view_module": "@jupyter-widgets/controls",
            "_model_module_version": "1.5.0",
            "value": 227,
            "_view_count": null,
            "_view_module_version": "1.5.0",
            "orientation": "horizontal",
            "min": 0,
            "description_tooltip": null,
            "_model_module": "@jupyter-widgets/controls",
            "layout": "IPY_MODEL_5304910d6e854b558b01ae1b8e2a1e20"
          }
        },
        "6400bf99a562415488ae81cc000a4736": {
          "model_module": "@jupyter-widgets/controls",
          "model_name": "HTMLModel",
          "state": {
            "_view_name": "HTMLView",
            "style": "IPY_MODEL_f79cbaa4b84d416e98e900c1ca2d0f85",
            "_dom_classes": [],
            "description": "",
            "_model_name": "HTMLModel",
            "placeholder": "​",
            "_view_module": "@jupyter-widgets/controls",
            "_model_module_version": "1.5.0",
            "value": " 227/227 [01:16&lt;00:00,  3.35it/s]",
            "_view_count": null,
            "_view_module_version": "1.5.0",
            "description_tooltip": null,
            "_model_module": "@jupyter-widgets/controls",
            "layout": "IPY_MODEL_cc7bef0612dd468685c69fd5781adb18"
          }
        },
        "d2eb1118d46249808f81ca96313ccf46": {
          "model_module": "@jupyter-widgets/controls",
          "model_name": "ProgressStyleModel",
          "state": {
            "_view_name": "StyleView",
            "_model_name": "ProgressStyleModel",
            "description_width": "initial",
            "_view_module": "@jupyter-widgets/base",
            "_model_module_version": "1.5.0",
            "_view_count": null,
            "_view_module_version": "1.2.0",
            "bar_color": null,
            "_model_module": "@jupyter-widgets/controls"
          }
        },
        "5304910d6e854b558b01ae1b8e2a1e20": {
          "model_module": "@jupyter-widgets/base",
          "model_name": "LayoutModel",
          "state": {
            "_view_name": "LayoutView",
            "grid_template_rows": null,
            "right": null,
            "justify_content": null,
            "_view_module": "@jupyter-widgets/base",
            "overflow": null,
            "_model_module_version": "1.2.0",
            "_view_count": null,
            "flex_flow": null,
            "width": null,
            "min_width": null,
            "border": null,
            "align_items": null,
            "bottom": null,
            "_model_module": "@jupyter-widgets/base",
            "top": null,
            "grid_column": null,
            "overflow_y": null,
            "overflow_x": null,
            "grid_auto_flow": null,
            "grid_area": null,
            "grid_template_columns": null,
            "flex": null,
            "_model_name": "LayoutModel",
            "justify_items": null,
            "grid_row": null,
            "max_height": null,
            "align_content": null,
            "visibility": null,
            "align_self": null,
            "height": null,
            "min_height": null,
            "padding": null,
            "grid_auto_rows": null,
            "grid_gap": null,
            "max_width": null,
            "order": null,
            "_view_module_version": "1.2.0",
            "grid_template_areas": null,
            "object_position": null,
            "object_fit": null,
            "grid_auto_columns": null,
            "margin": null,
            "display": null,
            "left": null
          }
        },
        "f79cbaa4b84d416e98e900c1ca2d0f85": {
          "model_module": "@jupyter-widgets/controls",
          "model_name": "DescriptionStyleModel",
          "state": {
            "_view_name": "StyleView",
            "_model_name": "DescriptionStyleModel",
            "description_width": "",
            "_view_module": "@jupyter-widgets/base",
            "_model_module_version": "1.5.0",
            "_view_count": null,
            "_view_module_version": "1.2.0",
            "_model_module": "@jupyter-widgets/controls"
          }
        },
        "cc7bef0612dd468685c69fd5781adb18": {
          "model_module": "@jupyter-widgets/base",
          "model_name": "LayoutModel",
          "state": {
            "_view_name": "LayoutView",
            "grid_template_rows": null,
            "right": null,
            "justify_content": null,
            "_view_module": "@jupyter-widgets/base",
            "overflow": null,
            "_model_module_version": "1.2.0",
            "_view_count": null,
            "flex_flow": null,
            "width": null,
            "min_width": null,
            "border": null,
            "align_items": null,
            "bottom": null,
            "_model_module": "@jupyter-widgets/base",
            "top": null,
            "grid_column": null,
            "overflow_y": null,
            "overflow_x": null,
            "grid_auto_flow": null,
            "grid_area": null,
            "grid_template_columns": null,
            "flex": null,
            "_model_name": "LayoutModel",
            "justify_items": null,
            "grid_row": null,
            "max_height": null,
            "align_content": null,
            "visibility": null,
            "align_self": null,
            "height": null,
            "min_height": null,
            "padding": null,
            "grid_auto_rows": null,
            "grid_gap": null,
            "max_width": null,
            "order": null,
            "_view_module_version": "1.2.0",
            "grid_template_areas": null,
            "object_position": null,
            "object_fit": null,
            "grid_auto_columns": null,
            "margin": null,
            "display": null,
            "left": null
          }
        },
        "a460881152b94e27a81cb3aa9d20ad56": {
          "model_module": "@jupyter-widgets/controls",
          "model_name": "HBoxModel",
          "state": {
            "_view_name": "HBoxView",
            "_dom_classes": [],
            "_model_name": "HBoxModel",
            "_view_module": "@jupyter-widgets/controls",
            "_model_module_version": "1.5.0",
            "_view_count": null,
            "_view_module_version": "1.5.0",
            "box_style": "",
            "layout": "IPY_MODEL_8f4a06a5e8f84e6e931a1b20d49ccd46",
            "_model_module": "@jupyter-widgets/controls",
            "children": [
              "IPY_MODEL_918265f5f2e3485eab0bbb3238692bf0",
              "IPY_MODEL_3565f183a96c4fd4800dbba2ea346681"
            ]
          }
        },
        "8f4a06a5e8f84e6e931a1b20d49ccd46": {
          "model_module": "@jupyter-widgets/base",
          "model_name": "LayoutModel",
          "state": {
            "_view_name": "LayoutView",
            "grid_template_rows": null,
            "right": null,
            "justify_content": null,
            "_view_module": "@jupyter-widgets/base",
            "overflow": null,
            "_model_module_version": "1.2.0",
            "_view_count": null,
            "flex_flow": null,
            "width": null,
            "min_width": null,
            "border": null,
            "align_items": null,
            "bottom": null,
            "_model_module": "@jupyter-widgets/base",
            "top": null,
            "grid_column": null,
            "overflow_y": null,
            "overflow_x": null,
            "grid_auto_flow": null,
            "grid_area": null,
            "grid_template_columns": null,
            "flex": null,
            "_model_name": "LayoutModel",
            "justify_items": null,
            "grid_row": null,
            "max_height": null,
            "align_content": null,
            "visibility": null,
            "align_self": null,
            "height": null,
            "min_height": null,
            "padding": null,
            "grid_auto_rows": null,
            "grid_gap": null,
            "max_width": null,
            "order": null,
            "_view_module_version": "1.2.0",
            "grid_template_areas": null,
            "object_position": null,
            "object_fit": null,
            "grid_auto_columns": null,
            "margin": null,
            "display": null,
            "left": null
          }
        },
        "918265f5f2e3485eab0bbb3238692bf0": {
          "model_module": "@jupyter-widgets/controls",
          "model_name": "FloatProgressModel",
          "state": {
            "_view_name": "ProgressView",
            "style": "IPY_MODEL_8a16c7b1b60347f0839af3864d2b34d4",
            "_dom_classes": [],
            "description": "100%",
            "_model_name": "FloatProgressModel",
            "bar_style": "",
            "max": 8,
            "_view_module": "@jupyter-widgets/controls",
            "_model_module_version": "1.5.0",
            "value": 8,
            "_view_count": null,
            "_view_module_version": "1.5.0",
            "orientation": "horizontal",
            "min": 0,
            "description_tooltip": null,
            "_model_module": "@jupyter-widgets/controls",
            "layout": "IPY_MODEL_f2263eeffd574d0f9522de22b12b4f4b"
          }
        },
        "3565f183a96c4fd4800dbba2ea346681": {
          "model_module": "@jupyter-widgets/controls",
          "model_name": "HTMLModel",
          "state": {
            "_view_name": "HTMLView",
            "style": "IPY_MODEL_f2feb8441b0148f593bed6927df40f27",
            "_dom_classes": [],
            "description": "",
            "_model_name": "HTMLModel",
            "placeholder": "​",
            "_view_module": "@jupyter-widgets/controls",
            "_model_module_version": "1.5.0",
            "value": " 8/8 [00:00&lt;00:00, 12.14it/s]",
            "_view_count": null,
            "_view_module_version": "1.5.0",
            "description_tooltip": null,
            "_model_module": "@jupyter-widgets/controls",
            "layout": "IPY_MODEL_b74ed17d100c43b9935554221aa0ba85"
          }
        },
        "8a16c7b1b60347f0839af3864d2b34d4": {
          "model_module": "@jupyter-widgets/controls",
          "model_name": "ProgressStyleModel",
          "state": {
            "_view_name": "StyleView",
            "_model_name": "ProgressStyleModel",
            "description_width": "initial",
            "_view_module": "@jupyter-widgets/base",
            "_model_module_version": "1.5.0",
            "_view_count": null,
            "_view_module_version": "1.2.0",
            "bar_color": null,
            "_model_module": "@jupyter-widgets/controls"
          }
        },
        "f2263eeffd574d0f9522de22b12b4f4b": {
          "model_module": "@jupyter-widgets/base",
          "model_name": "LayoutModel",
          "state": {
            "_view_name": "LayoutView",
            "grid_template_rows": null,
            "right": null,
            "justify_content": null,
            "_view_module": "@jupyter-widgets/base",
            "overflow": null,
            "_model_module_version": "1.2.0",
            "_view_count": null,
            "flex_flow": null,
            "width": null,
            "min_width": null,
            "border": null,
            "align_items": null,
            "bottom": null,
            "_model_module": "@jupyter-widgets/base",
            "top": null,
            "grid_column": null,
            "overflow_y": null,
            "overflow_x": null,
            "grid_auto_flow": null,
            "grid_area": null,
            "grid_template_columns": null,
            "flex": null,
            "_model_name": "LayoutModel",
            "justify_items": null,
            "grid_row": null,
            "max_height": null,
            "align_content": null,
            "visibility": null,
            "align_self": null,
            "height": null,
            "min_height": null,
            "padding": null,
            "grid_auto_rows": null,
            "grid_gap": null,
            "max_width": null,
            "order": null,
            "_view_module_version": "1.2.0",
            "grid_template_areas": null,
            "object_position": null,
            "object_fit": null,
            "grid_auto_columns": null,
            "margin": null,
            "display": null,
            "left": null
          }
        },
        "f2feb8441b0148f593bed6927df40f27": {
          "model_module": "@jupyter-widgets/controls",
          "model_name": "DescriptionStyleModel",
          "state": {
            "_view_name": "StyleView",
            "_model_name": "DescriptionStyleModel",
            "description_width": "",
            "_view_module": "@jupyter-widgets/base",
            "_model_module_version": "1.5.0",
            "_view_count": null,
            "_view_module_version": "1.2.0",
            "_model_module": "@jupyter-widgets/controls"
          }
        },
        "b74ed17d100c43b9935554221aa0ba85": {
          "model_module": "@jupyter-widgets/base",
          "model_name": "LayoutModel",
          "state": {
            "_view_name": "LayoutView",
            "grid_template_rows": null,
            "right": null,
            "justify_content": null,
            "_view_module": "@jupyter-widgets/base",
            "overflow": null,
            "_model_module_version": "1.2.0",
            "_view_count": null,
            "flex_flow": null,
            "width": null,
            "min_width": null,
            "border": null,
            "align_items": null,
            "bottom": null,
            "_model_module": "@jupyter-widgets/base",
            "top": null,
            "grid_column": null,
            "overflow_y": null,
            "overflow_x": null,
            "grid_auto_flow": null,
            "grid_area": null,
            "grid_template_columns": null,
            "flex": null,
            "_model_name": "LayoutModel",
            "justify_items": null,
            "grid_row": null,
            "max_height": null,
            "align_content": null,
            "visibility": null,
            "align_self": null,
            "height": null,
            "min_height": null,
            "padding": null,
            "grid_auto_rows": null,
            "grid_gap": null,
            "max_width": null,
            "order": null,
            "_view_module_version": "1.2.0",
            "grid_template_areas": null,
            "object_position": null,
            "object_fit": null,
            "grid_auto_columns": null,
            "margin": null,
            "display": null,
            "left": null
          }
        },
        "dcd4d30dcfbb4a9bbfb03fea2ae35d56": {
          "model_module": "@jupyter-widgets/controls",
          "model_name": "HBoxModel",
          "state": {
            "_view_name": "HBoxView",
            "_dom_classes": [],
            "_model_name": "HBoxModel",
            "_view_module": "@jupyter-widgets/controls",
            "_model_module_version": "1.5.0",
            "_view_count": null,
            "_view_module_version": "1.5.0",
            "box_style": "",
            "layout": "IPY_MODEL_8db5c4e471d34ca79efa4c3d50d5fe0b",
            "_model_module": "@jupyter-widgets/controls",
            "children": [
              "IPY_MODEL_b2fefa565c984493bb2a271a1397f447",
              "IPY_MODEL_fda0420a719d449a85fbfb31d119058f"
            ]
          }
        },
        "8db5c4e471d34ca79efa4c3d50d5fe0b": {
          "model_module": "@jupyter-widgets/base",
          "model_name": "LayoutModel",
          "state": {
            "_view_name": "LayoutView",
            "grid_template_rows": null,
            "right": null,
            "justify_content": null,
            "_view_module": "@jupyter-widgets/base",
            "overflow": null,
            "_model_module_version": "1.2.0",
            "_view_count": null,
            "flex_flow": null,
            "width": null,
            "min_width": null,
            "border": null,
            "align_items": null,
            "bottom": null,
            "_model_module": "@jupyter-widgets/base",
            "top": null,
            "grid_column": null,
            "overflow_y": null,
            "overflow_x": null,
            "grid_auto_flow": null,
            "grid_area": null,
            "grid_template_columns": null,
            "flex": null,
            "_model_name": "LayoutModel",
            "justify_items": null,
            "grid_row": null,
            "max_height": null,
            "align_content": null,
            "visibility": null,
            "align_self": null,
            "height": null,
            "min_height": null,
            "padding": null,
            "grid_auto_rows": null,
            "grid_gap": null,
            "max_width": null,
            "order": null,
            "_view_module_version": "1.2.0",
            "grid_template_areas": null,
            "object_position": null,
            "object_fit": null,
            "grid_auto_columns": null,
            "margin": null,
            "display": null,
            "left": null
          }
        },
        "b2fefa565c984493bb2a271a1397f447": {
          "model_module": "@jupyter-widgets/controls",
          "model_name": "FloatProgressModel",
          "state": {
            "_view_name": "ProgressView",
            "style": "IPY_MODEL_1f3d03cfb2bb44348c5ea77c65dd2326",
            "_dom_classes": [],
            "description": "100%",
            "_model_name": "FloatProgressModel",
            "bar_style": "",
            "max": 227,
            "_view_module": "@jupyter-widgets/controls",
            "_model_module_version": "1.5.0",
            "value": 227,
            "_view_count": null,
            "_view_module_version": "1.5.0",
            "orientation": "horizontal",
            "min": 0,
            "description_tooltip": null,
            "_model_module": "@jupyter-widgets/controls",
            "layout": "IPY_MODEL_c44279178dce4d4a8318b47581e0df8a"
          }
        },
        "fda0420a719d449a85fbfb31d119058f": {
          "model_module": "@jupyter-widgets/controls",
          "model_name": "HTMLModel",
          "state": {
            "_view_name": "HTMLView",
            "style": "IPY_MODEL_77069b711def41d88d8e6aeed7883983",
            "_dom_classes": [],
            "description": "",
            "_model_name": "HTMLModel",
            "placeholder": "​",
            "_view_module": "@jupyter-widgets/controls",
            "_model_module_version": "1.5.0",
            "value": " 227/227 [01:16&lt;00:00,  3.02it/s]",
            "_view_count": null,
            "_view_module_version": "1.5.0",
            "description_tooltip": null,
            "_model_module": "@jupyter-widgets/controls",
            "layout": "IPY_MODEL_2fdb6d66564749ae92a6a08b45c355fe"
          }
        },
        "1f3d03cfb2bb44348c5ea77c65dd2326": {
          "model_module": "@jupyter-widgets/controls",
          "model_name": "ProgressStyleModel",
          "state": {
            "_view_name": "StyleView",
            "_model_name": "ProgressStyleModel",
            "description_width": "initial",
            "_view_module": "@jupyter-widgets/base",
            "_model_module_version": "1.5.0",
            "_view_count": null,
            "_view_module_version": "1.2.0",
            "bar_color": null,
            "_model_module": "@jupyter-widgets/controls"
          }
        },
        "c44279178dce4d4a8318b47581e0df8a": {
          "model_module": "@jupyter-widgets/base",
          "model_name": "LayoutModel",
          "state": {
            "_view_name": "LayoutView",
            "grid_template_rows": null,
            "right": null,
            "justify_content": null,
            "_view_module": "@jupyter-widgets/base",
            "overflow": null,
            "_model_module_version": "1.2.0",
            "_view_count": null,
            "flex_flow": null,
            "width": null,
            "min_width": null,
            "border": null,
            "align_items": null,
            "bottom": null,
            "_model_module": "@jupyter-widgets/base",
            "top": null,
            "grid_column": null,
            "overflow_y": null,
            "overflow_x": null,
            "grid_auto_flow": null,
            "grid_area": null,
            "grid_template_columns": null,
            "flex": null,
            "_model_name": "LayoutModel",
            "justify_items": null,
            "grid_row": null,
            "max_height": null,
            "align_content": null,
            "visibility": null,
            "align_self": null,
            "height": null,
            "min_height": null,
            "padding": null,
            "grid_auto_rows": null,
            "grid_gap": null,
            "max_width": null,
            "order": null,
            "_view_module_version": "1.2.0",
            "grid_template_areas": null,
            "object_position": null,
            "object_fit": null,
            "grid_auto_columns": null,
            "margin": null,
            "display": null,
            "left": null
          }
        },
        "77069b711def41d88d8e6aeed7883983": {
          "model_module": "@jupyter-widgets/controls",
          "model_name": "DescriptionStyleModel",
          "state": {
            "_view_name": "StyleView",
            "_model_name": "DescriptionStyleModel",
            "description_width": "",
            "_view_module": "@jupyter-widgets/base",
            "_model_module_version": "1.5.0",
            "_view_count": null,
            "_view_module_version": "1.2.0",
            "_model_module": "@jupyter-widgets/controls"
          }
        },
        "2fdb6d66564749ae92a6a08b45c355fe": {
          "model_module": "@jupyter-widgets/base",
          "model_name": "LayoutModel",
          "state": {
            "_view_name": "LayoutView",
            "grid_template_rows": null,
            "right": null,
            "justify_content": null,
            "_view_module": "@jupyter-widgets/base",
            "overflow": null,
            "_model_module_version": "1.2.0",
            "_view_count": null,
            "flex_flow": null,
            "width": null,
            "min_width": null,
            "border": null,
            "align_items": null,
            "bottom": null,
            "_model_module": "@jupyter-widgets/base",
            "top": null,
            "grid_column": null,
            "overflow_y": null,
            "overflow_x": null,
            "grid_auto_flow": null,
            "grid_area": null,
            "grid_template_columns": null,
            "flex": null,
            "_model_name": "LayoutModel",
            "justify_items": null,
            "grid_row": null,
            "max_height": null,
            "align_content": null,
            "visibility": null,
            "align_self": null,
            "height": null,
            "min_height": null,
            "padding": null,
            "grid_auto_rows": null,
            "grid_gap": null,
            "max_width": null,
            "order": null,
            "_view_module_version": "1.2.0",
            "grid_template_areas": null,
            "object_position": null,
            "object_fit": null,
            "grid_auto_columns": null,
            "margin": null,
            "display": null,
            "left": null
          }
        },
        "08aea6ffaa05467f87c4fe4e4a5ec5c6": {
          "model_module": "@jupyter-widgets/controls",
          "model_name": "HBoxModel",
          "state": {
            "_view_name": "HBoxView",
            "_dom_classes": [],
            "_model_name": "HBoxModel",
            "_view_module": "@jupyter-widgets/controls",
            "_model_module_version": "1.5.0",
            "_view_count": null,
            "_view_module_version": "1.5.0",
            "box_style": "",
            "layout": "IPY_MODEL_2d9adb22689748f39477d9271aa3bb80",
            "_model_module": "@jupyter-widgets/controls",
            "children": [
              "IPY_MODEL_0f794ad9b9b54918933c07edc9b18a0f",
              "IPY_MODEL_e36597dbf4524b3dbe964475710b4568"
            ]
          }
        },
        "2d9adb22689748f39477d9271aa3bb80": {
          "model_module": "@jupyter-widgets/base",
          "model_name": "LayoutModel",
          "state": {
            "_view_name": "LayoutView",
            "grid_template_rows": null,
            "right": null,
            "justify_content": null,
            "_view_module": "@jupyter-widgets/base",
            "overflow": null,
            "_model_module_version": "1.2.0",
            "_view_count": null,
            "flex_flow": null,
            "width": null,
            "min_width": null,
            "border": null,
            "align_items": null,
            "bottom": null,
            "_model_module": "@jupyter-widgets/base",
            "top": null,
            "grid_column": null,
            "overflow_y": null,
            "overflow_x": null,
            "grid_auto_flow": null,
            "grid_area": null,
            "grid_template_columns": null,
            "flex": null,
            "_model_name": "LayoutModel",
            "justify_items": null,
            "grid_row": null,
            "max_height": null,
            "align_content": null,
            "visibility": null,
            "align_self": null,
            "height": null,
            "min_height": null,
            "padding": null,
            "grid_auto_rows": null,
            "grid_gap": null,
            "max_width": null,
            "order": null,
            "_view_module_version": "1.2.0",
            "grid_template_areas": null,
            "object_position": null,
            "object_fit": null,
            "grid_auto_columns": null,
            "margin": null,
            "display": null,
            "left": null
          }
        },
        "0f794ad9b9b54918933c07edc9b18a0f": {
          "model_module": "@jupyter-widgets/controls",
          "model_name": "FloatProgressModel",
          "state": {
            "_view_name": "ProgressView",
            "style": "IPY_MODEL_9f3866c6f09c462e9e12b721067c953d",
            "_dom_classes": [],
            "description": "100%",
            "_model_name": "FloatProgressModel",
            "bar_style": "",
            "max": 8,
            "_view_module": "@jupyter-widgets/controls",
            "_model_module_version": "1.5.0",
            "value": 8,
            "_view_count": null,
            "_view_module_version": "1.5.0",
            "orientation": "horizontal",
            "min": 0,
            "description_tooltip": null,
            "_model_module": "@jupyter-widgets/controls",
            "layout": "IPY_MODEL_30e4dfb6d9414af6ac79ecfafc6fbb9a"
          }
        },
        "e36597dbf4524b3dbe964475710b4568": {
          "model_module": "@jupyter-widgets/controls",
          "model_name": "HTMLModel",
          "state": {
            "_view_name": "HTMLView",
            "style": "IPY_MODEL_fe5677fa46a9445b8e0b744328bd7c6f",
            "_dom_classes": [],
            "description": "",
            "_model_name": "HTMLModel",
            "placeholder": "​",
            "_view_module": "@jupyter-widgets/controls",
            "_model_module_version": "1.5.0",
            "value": " 8/8 [00:00&lt;00:00, 11.26it/s]",
            "_view_count": null,
            "_view_module_version": "1.5.0",
            "description_tooltip": null,
            "_model_module": "@jupyter-widgets/controls",
            "layout": "IPY_MODEL_875c0ad7763644a48da0b39d17cc771d"
          }
        },
        "9f3866c6f09c462e9e12b721067c953d": {
          "model_module": "@jupyter-widgets/controls",
          "model_name": "ProgressStyleModel",
          "state": {
            "_view_name": "StyleView",
            "_model_name": "ProgressStyleModel",
            "description_width": "initial",
            "_view_module": "@jupyter-widgets/base",
            "_model_module_version": "1.5.0",
            "_view_count": null,
            "_view_module_version": "1.2.0",
            "bar_color": null,
            "_model_module": "@jupyter-widgets/controls"
          }
        },
        "30e4dfb6d9414af6ac79ecfafc6fbb9a": {
          "model_module": "@jupyter-widgets/base",
          "model_name": "LayoutModel",
          "state": {
            "_view_name": "LayoutView",
            "grid_template_rows": null,
            "right": null,
            "justify_content": null,
            "_view_module": "@jupyter-widgets/base",
            "overflow": null,
            "_model_module_version": "1.2.0",
            "_view_count": null,
            "flex_flow": null,
            "width": null,
            "min_width": null,
            "border": null,
            "align_items": null,
            "bottom": null,
            "_model_module": "@jupyter-widgets/base",
            "top": null,
            "grid_column": null,
            "overflow_y": null,
            "overflow_x": null,
            "grid_auto_flow": null,
            "grid_area": null,
            "grid_template_columns": null,
            "flex": null,
            "_model_name": "LayoutModel",
            "justify_items": null,
            "grid_row": null,
            "max_height": null,
            "align_content": null,
            "visibility": null,
            "align_self": null,
            "height": null,
            "min_height": null,
            "padding": null,
            "grid_auto_rows": null,
            "grid_gap": null,
            "max_width": null,
            "order": null,
            "_view_module_version": "1.2.0",
            "grid_template_areas": null,
            "object_position": null,
            "object_fit": null,
            "grid_auto_columns": null,
            "margin": null,
            "display": null,
            "left": null
          }
        },
        "fe5677fa46a9445b8e0b744328bd7c6f": {
          "model_module": "@jupyter-widgets/controls",
          "model_name": "DescriptionStyleModel",
          "state": {
            "_view_name": "StyleView",
            "_model_name": "DescriptionStyleModel",
            "description_width": "",
            "_view_module": "@jupyter-widgets/base",
            "_model_module_version": "1.5.0",
            "_view_count": null,
            "_view_module_version": "1.2.0",
            "_model_module": "@jupyter-widgets/controls"
          }
        },
        "875c0ad7763644a48da0b39d17cc771d": {
          "model_module": "@jupyter-widgets/base",
          "model_name": "LayoutModel",
          "state": {
            "_view_name": "LayoutView",
            "grid_template_rows": null,
            "right": null,
            "justify_content": null,
            "_view_module": "@jupyter-widgets/base",
            "overflow": null,
            "_model_module_version": "1.2.0",
            "_view_count": null,
            "flex_flow": null,
            "width": null,
            "min_width": null,
            "border": null,
            "align_items": null,
            "bottom": null,
            "_model_module": "@jupyter-widgets/base",
            "top": null,
            "grid_column": null,
            "overflow_y": null,
            "overflow_x": null,
            "grid_auto_flow": null,
            "grid_area": null,
            "grid_template_columns": null,
            "flex": null,
            "_model_name": "LayoutModel",
            "justify_items": null,
            "grid_row": null,
            "max_height": null,
            "align_content": null,
            "visibility": null,
            "align_self": null,
            "height": null,
            "min_height": null,
            "padding": null,
            "grid_auto_rows": null,
            "grid_gap": null,
            "max_width": null,
            "order": null,
            "_view_module_version": "1.2.0",
            "grid_template_areas": null,
            "object_position": null,
            "object_fit": null,
            "grid_auto_columns": null,
            "margin": null,
            "display": null,
            "left": null
          }
        },
        "dcc18185af8e470ca9b0a00a8ff26c97": {
          "model_module": "@jupyter-widgets/controls",
          "model_name": "HBoxModel",
          "state": {
            "_view_name": "HBoxView",
            "_dom_classes": [],
            "_model_name": "HBoxModel",
            "_view_module": "@jupyter-widgets/controls",
            "_model_module_version": "1.5.0",
            "_view_count": null,
            "_view_module_version": "1.5.0",
            "box_style": "",
            "layout": "IPY_MODEL_02196456c39943c7879b52f20b9acf44",
            "_model_module": "@jupyter-widgets/controls",
            "children": [
              "IPY_MODEL_826c00c455f54a208398bde6e8dbcb0d",
              "IPY_MODEL_389307fb8b644aa29ddbcacf3fe14e95"
            ]
          }
        },
        "02196456c39943c7879b52f20b9acf44": {
          "model_module": "@jupyter-widgets/base",
          "model_name": "LayoutModel",
          "state": {
            "_view_name": "LayoutView",
            "grid_template_rows": null,
            "right": null,
            "justify_content": null,
            "_view_module": "@jupyter-widgets/base",
            "overflow": null,
            "_model_module_version": "1.2.0",
            "_view_count": null,
            "flex_flow": null,
            "width": null,
            "min_width": null,
            "border": null,
            "align_items": null,
            "bottom": null,
            "_model_module": "@jupyter-widgets/base",
            "top": null,
            "grid_column": null,
            "overflow_y": null,
            "overflow_x": null,
            "grid_auto_flow": null,
            "grid_area": null,
            "grid_template_columns": null,
            "flex": null,
            "_model_name": "LayoutModel",
            "justify_items": null,
            "grid_row": null,
            "max_height": null,
            "align_content": null,
            "visibility": null,
            "align_self": null,
            "height": null,
            "min_height": null,
            "padding": null,
            "grid_auto_rows": null,
            "grid_gap": null,
            "max_width": null,
            "order": null,
            "_view_module_version": "1.2.0",
            "grid_template_areas": null,
            "object_position": null,
            "object_fit": null,
            "grid_auto_columns": null,
            "margin": null,
            "display": null,
            "left": null
          }
        },
        "826c00c455f54a208398bde6e8dbcb0d": {
          "model_module": "@jupyter-widgets/controls",
          "model_name": "FloatProgressModel",
          "state": {
            "_view_name": "ProgressView",
            "style": "IPY_MODEL_ec65ba3d540f48549bd01180dcce1c49",
            "_dom_classes": [],
            "description": "100%",
            "_model_name": "FloatProgressModel",
            "bar_style": "",
            "max": 227,
            "_view_module": "@jupyter-widgets/controls",
            "_model_module_version": "1.5.0",
            "value": 227,
            "_view_count": null,
            "_view_module_version": "1.5.0",
            "orientation": "horizontal",
            "min": 0,
            "description_tooltip": null,
            "_model_module": "@jupyter-widgets/controls",
            "layout": "IPY_MODEL_8b9e0365823b4cd7a0998c10716b930a"
          }
        },
        "389307fb8b644aa29ddbcacf3fe14e95": {
          "model_module": "@jupyter-widgets/controls",
          "model_name": "HTMLModel",
          "state": {
            "_view_name": "HTMLView",
            "style": "IPY_MODEL_a4f5fb362cdd4d22a3108e5cd3c39448",
            "_dom_classes": [],
            "description": "",
            "_model_name": "HTMLModel",
            "placeholder": "​",
            "_view_module": "@jupyter-widgets/controls",
            "_model_module_version": "1.5.0",
            "value": " 227/227 [01:16&lt;00:00,  3.09it/s]",
            "_view_count": null,
            "_view_module_version": "1.5.0",
            "description_tooltip": null,
            "_model_module": "@jupyter-widgets/controls",
            "layout": "IPY_MODEL_e12cf64b6d104622bef6b7426f7ef72c"
          }
        },
        "ec65ba3d540f48549bd01180dcce1c49": {
          "model_module": "@jupyter-widgets/controls",
          "model_name": "ProgressStyleModel",
          "state": {
            "_view_name": "StyleView",
            "_model_name": "ProgressStyleModel",
            "description_width": "initial",
            "_view_module": "@jupyter-widgets/base",
            "_model_module_version": "1.5.0",
            "_view_count": null,
            "_view_module_version": "1.2.0",
            "bar_color": null,
            "_model_module": "@jupyter-widgets/controls"
          }
        },
        "8b9e0365823b4cd7a0998c10716b930a": {
          "model_module": "@jupyter-widgets/base",
          "model_name": "LayoutModel",
          "state": {
            "_view_name": "LayoutView",
            "grid_template_rows": null,
            "right": null,
            "justify_content": null,
            "_view_module": "@jupyter-widgets/base",
            "overflow": null,
            "_model_module_version": "1.2.0",
            "_view_count": null,
            "flex_flow": null,
            "width": null,
            "min_width": null,
            "border": null,
            "align_items": null,
            "bottom": null,
            "_model_module": "@jupyter-widgets/base",
            "top": null,
            "grid_column": null,
            "overflow_y": null,
            "overflow_x": null,
            "grid_auto_flow": null,
            "grid_area": null,
            "grid_template_columns": null,
            "flex": null,
            "_model_name": "LayoutModel",
            "justify_items": null,
            "grid_row": null,
            "max_height": null,
            "align_content": null,
            "visibility": null,
            "align_self": null,
            "height": null,
            "min_height": null,
            "padding": null,
            "grid_auto_rows": null,
            "grid_gap": null,
            "max_width": null,
            "order": null,
            "_view_module_version": "1.2.0",
            "grid_template_areas": null,
            "object_position": null,
            "object_fit": null,
            "grid_auto_columns": null,
            "margin": null,
            "display": null,
            "left": null
          }
        },
        "a4f5fb362cdd4d22a3108e5cd3c39448": {
          "model_module": "@jupyter-widgets/controls",
          "model_name": "DescriptionStyleModel",
          "state": {
            "_view_name": "StyleView",
            "_model_name": "DescriptionStyleModel",
            "description_width": "",
            "_view_module": "@jupyter-widgets/base",
            "_model_module_version": "1.5.0",
            "_view_count": null,
            "_view_module_version": "1.2.0",
            "_model_module": "@jupyter-widgets/controls"
          }
        },
        "e12cf64b6d104622bef6b7426f7ef72c": {
          "model_module": "@jupyter-widgets/base",
          "model_name": "LayoutModel",
          "state": {
            "_view_name": "LayoutView",
            "grid_template_rows": null,
            "right": null,
            "justify_content": null,
            "_view_module": "@jupyter-widgets/base",
            "overflow": null,
            "_model_module_version": "1.2.0",
            "_view_count": null,
            "flex_flow": null,
            "width": null,
            "min_width": null,
            "border": null,
            "align_items": null,
            "bottom": null,
            "_model_module": "@jupyter-widgets/base",
            "top": null,
            "grid_column": null,
            "overflow_y": null,
            "overflow_x": null,
            "grid_auto_flow": null,
            "grid_area": null,
            "grid_template_columns": null,
            "flex": null,
            "_model_name": "LayoutModel",
            "justify_items": null,
            "grid_row": null,
            "max_height": null,
            "align_content": null,
            "visibility": null,
            "align_self": null,
            "height": null,
            "min_height": null,
            "padding": null,
            "grid_auto_rows": null,
            "grid_gap": null,
            "max_width": null,
            "order": null,
            "_view_module_version": "1.2.0",
            "grid_template_areas": null,
            "object_position": null,
            "object_fit": null,
            "grid_auto_columns": null,
            "margin": null,
            "display": null,
            "left": null
          }
        },
        "0acf140f254a4a7b992b24fb5468616c": {
          "model_module": "@jupyter-widgets/controls",
          "model_name": "HBoxModel",
          "state": {
            "_view_name": "HBoxView",
            "_dom_classes": [],
            "_model_name": "HBoxModel",
            "_view_module": "@jupyter-widgets/controls",
            "_model_module_version": "1.5.0",
            "_view_count": null,
            "_view_module_version": "1.5.0",
            "box_style": "",
            "layout": "IPY_MODEL_9c7d50dcd4d44b96814b3828040ee988",
            "_model_module": "@jupyter-widgets/controls",
            "children": [
              "IPY_MODEL_8fca6631b74b478f80e2c19da0bbf5b0",
              "IPY_MODEL_f2b08553f2bf4b818447e3c15a49956c"
            ]
          }
        },
        "9c7d50dcd4d44b96814b3828040ee988": {
          "model_module": "@jupyter-widgets/base",
          "model_name": "LayoutModel",
          "state": {
            "_view_name": "LayoutView",
            "grid_template_rows": null,
            "right": null,
            "justify_content": null,
            "_view_module": "@jupyter-widgets/base",
            "overflow": null,
            "_model_module_version": "1.2.0",
            "_view_count": null,
            "flex_flow": null,
            "width": null,
            "min_width": null,
            "border": null,
            "align_items": null,
            "bottom": null,
            "_model_module": "@jupyter-widgets/base",
            "top": null,
            "grid_column": null,
            "overflow_y": null,
            "overflow_x": null,
            "grid_auto_flow": null,
            "grid_area": null,
            "grid_template_columns": null,
            "flex": null,
            "_model_name": "LayoutModel",
            "justify_items": null,
            "grid_row": null,
            "max_height": null,
            "align_content": null,
            "visibility": null,
            "align_self": null,
            "height": null,
            "min_height": null,
            "padding": null,
            "grid_auto_rows": null,
            "grid_gap": null,
            "max_width": null,
            "order": null,
            "_view_module_version": "1.2.0",
            "grid_template_areas": null,
            "object_position": null,
            "object_fit": null,
            "grid_auto_columns": null,
            "margin": null,
            "display": null,
            "left": null
          }
        },
        "8fca6631b74b478f80e2c19da0bbf5b0": {
          "model_module": "@jupyter-widgets/controls",
          "model_name": "FloatProgressModel",
          "state": {
            "_view_name": "ProgressView",
            "style": "IPY_MODEL_6c19269d15af46f6bcbae2dc11b6ff28",
            "_dom_classes": [],
            "description": "100%",
            "_model_name": "FloatProgressModel",
            "bar_style": "",
            "max": 8,
            "_view_module": "@jupyter-widgets/controls",
            "_model_module_version": "1.5.0",
            "value": 8,
            "_view_count": null,
            "_view_module_version": "1.5.0",
            "orientation": "horizontal",
            "min": 0,
            "description_tooltip": null,
            "_model_module": "@jupyter-widgets/controls",
            "layout": "IPY_MODEL_79a5aadb877d415c98a123a10e3ae381"
          }
        },
        "f2b08553f2bf4b818447e3c15a49956c": {
          "model_module": "@jupyter-widgets/controls",
          "model_name": "HTMLModel",
          "state": {
            "_view_name": "HTMLView",
            "style": "IPY_MODEL_219631db45ca48d4be8a13e7a36fc944",
            "_dom_classes": [],
            "description": "",
            "_model_name": "HTMLModel",
            "placeholder": "​",
            "_view_module": "@jupyter-widgets/controls",
            "_model_module_version": "1.5.0",
            "value": " 8/8 [00:00&lt;00:00, 11.19it/s]",
            "_view_count": null,
            "_view_module_version": "1.5.0",
            "description_tooltip": null,
            "_model_module": "@jupyter-widgets/controls",
            "layout": "IPY_MODEL_1405b97daeeb4a65b97dd24da5af4e89"
          }
        },
        "6c19269d15af46f6bcbae2dc11b6ff28": {
          "model_module": "@jupyter-widgets/controls",
          "model_name": "ProgressStyleModel",
          "state": {
            "_view_name": "StyleView",
            "_model_name": "ProgressStyleModel",
            "description_width": "initial",
            "_view_module": "@jupyter-widgets/base",
            "_model_module_version": "1.5.0",
            "_view_count": null,
            "_view_module_version": "1.2.0",
            "bar_color": null,
            "_model_module": "@jupyter-widgets/controls"
          }
        },
        "79a5aadb877d415c98a123a10e3ae381": {
          "model_module": "@jupyter-widgets/base",
          "model_name": "LayoutModel",
          "state": {
            "_view_name": "LayoutView",
            "grid_template_rows": null,
            "right": null,
            "justify_content": null,
            "_view_module": "@jupyter-widgets/base",
            "overflow": null,
            "_model_module_version": "1.2.0",
            "_view_count": null,
            "flex_flow": null,
            "width": null,
            "min_width": null,
            "border": null,
            "align_items": null,
            "bottom": null,
            "_model_module": "@jupyter-widgets/base",
            "top": null,
            "grid_column": null,
            "overflow_y": null,
            "overflow_x": null,
            "grid_auto_flow": null,
            "grid_area": null,
            "grid_template_columns": null,
            "flex": null,
            "_model_name": "LayoutModel",
            "justify_items": null,
            "grid_row": null,
            "max_height": null,
            "align_content": null,
            "visibility": null,
            "align_self": null,
            "height": null,
            "min_height": null,
            "padding": null,
            "grid_auto_rows": null,
            "grid_gap": null,
            "max_width": null,
            "order": null,
            "_view_module_version": "1.2.0",
            "grid_template_areas": null,
            "object_position": null,
            "object_fit": null,
            "grid_auto_columns": null,
            "margin": null,
            "display": null,
            "left": null
          }
        },
        "219631db45ca48d4be8a13e7a36fc944": {
          "model_module": "@jupyter-widgets/controls",
          "model_name": "DescriptionStyleModel",
          "state": {
            "_view_name": "StyleView",
            "_model_name": "DescriptionStyleModel",
            "description_width": "",
            "_view_module": "@jupyter-widgets/base",
            "_model_module_version": "1.5.0",
            "_view_count": null,
            "_view_module_version": "1.2.0",
            "_model_module": "@jupyter-widgets/controls"
          }
        },
        "1405b97daeeb4a65b97dd24da5af4e89": {
          "model_module": "@jupyter-widgets/base",
          "model_name": "LayoutModel",
          "state": {
            "_view_name": "LayoutView",
            "grid_template_rows": null,
            "right": null,
            "justify_content": null,
            "_view_module": "@jupyter-widgets/base",
            "overflow": null,
            "_model_module_version": "1.2.0",
            "_view_count": null,
            "flex_flow": null,
            "width": null,
            "min_width": null,
            "border": null,
            "align_items": null,
            "bottom": null,
            "_model_module": "@jupyter-widgets/base",
            "top": null,
            "grid_column": null,
            "overflow_y": null,
            "overflow_x": null,
            "grid_auto_flow": null,
            "grid_area": null,
            "grid_template_columns": null,
            "flex": null,
            "_model_name": "LayoutModel",
            "justify_items": null,
            "grid_row": null,
            "max_height": null,
            "align_content": null,
            "visibility": null,
            "align_self": null,
            "height": null,
            "min_height": null,
            "padding": null,
            "grid_auto_rows": null,
            "grid_gap": null,
            "max_width": null,
            "order": null,
            "_view_module_version": "1.2.0",
            "grid_template_areas": null,
            "object_position": null,
            "object_fit": null,
            "grid_auto_columns": null,
            "margin": null,
            "display": null,
            "left": null
          }
        },
        "279d9fead46d4764b4117cf4944ada8d": {
          "model_module": "@jupyter-widgets/controls",
          "model_name": "HBoxModel",
          "state": {
            "_view_name": "HBoxView",
            "_dom_classes": [],
            "_model_name": "HBoxModel",
            "_view_module": "@jupyter-widgets/controls",
            "_model_module_version": "1.5.0",
            "_view_count": null,
            "_view_module_version": "1.5.0",
            "box_style": "",
            "layout": "IPY_MODEL_5403ee4487f1407ba25114f61268b2d5",
            "_model_module": "@jupyter-widgets/controls",
            "children": [
              "IPY_MODEL_dc06d86ea0594c058dd790d81e786fbc",
              "IPY_MODEL_8f8dea59291d4b2585deb4d45eba4d3d"
            ]
          }
        },
        "5403ee4487f1407ba25114f61268b2d5": {
          "model_module": "@jupyter-widgets/base",
          "model_name": "LayoutModel",
          "state": {
            "_view_name": "LayoutView",
            "grid_template_rows": null,
            "right": null,
            "justify_content": null,
            "_view_module": "@jupyter-widgets/base",
            "overflow": null,
            "_model_module_version": "1.2.0",
            "_view_count": null,
            "flex_flow": null,
            "width": null,
            "min_width": null,
            "border": null,
            "align_items": null,
            "bottom": null,
            "_model_module": "@jupyter-widgets/base",
            "top": null,
            "grid_column": null,
            "overflow_y": null,
            "overflow_x": null,
            "grid_auto_flow": null,
            "grid_area": null,
            "grid_template_columns": null,
            "flex": null,
            "_model_name": "LayoutModel",
            "justify_items": null,
            "grid_row": null,
            "max_height": null,
            "align_content": null,
            "visibility": null,
            "align_self": null,
            "height": null,
            "min_height": null,
            "padding": null,
            "grid_auto_rows": null,
            "grid_gap": null,
            "max_width": null,
            "order": null,
            "_view_module_version": "1.2.0",
            "grid_template_areas": null,
            "object_position": null,
            "object_fit": null,
            "grid_auto_columns": null,
            "margin": null,
            "display": null,
            "left": null
          }
        },
        "dc06d86ea0594c058dd790d81e786fbc": {
          "model_module": "@jupyter-widgets/controls",
          "model_name": "FloatProgressModel",
          "state": {
            "_view_name": "ProgressView",
            "style": "IPY_MODEL_a32312bcce634fb2a6a86fe046175c25",
            "_dom_classes": [],
            "description": "100%",
            "_model_name": "FloatProgressModel",
            "bar_style": "",
            "max": 227,
            "_view_module": "@jupyter-widgets/controls",
            "_model_module_version": "1.5.0",
            "value": 227,
            "_view_count": null,
            "_view_module_version": "1.5.0",
            "orientation": "horizontal",
            "min": 0,
            "description_tooltip": null,
            "_model_module": "@jupyter-widgets/controls",
            "layout": "IPY_MODEL_9ebfd178fee048f6ade2d65cb0aaf233"
          }
        },
        "8f8dea59291d4b2585deb4d45eba4d3d": {
          "model_module": "@jupyter-widgets/controls",
          "model_name": "HTMLModel",
          "state": {
            "_view_name": "HTMLView",
            "style": "IPY_MODEL_89feae584c7041a0a1b1000d26262000",
            "_dom_classes": [],
            "description": "",
            "_model_name": "HTMLModel",
            "placeholder": "​",
            "_view_module": "@jupyter-widgets/controls",
            "_model_module_version": "1.5.0",
            "value": " 227/227 [01:17&lt;00:00,  3.24it/s]",
            "_view_count": null,
            "_view_module_version": "1.5.0",
            "description_tooltip": null,
            "_model_module": "@jupyter-widgets/controls",
            "layout": "IPY_MODEL_17a872185ac841979749824b2c9bd09a"
          }
        },
        "a32312bcce634fb2a6a86fe046175c25": {
          "model_module": "@jupyter-widgets/controls",
          "model_name": "ProgressStyleModel",
          "state": {
            "_view_name": "StyleView",
            "_model_name": "ProgressStyleModel",
            "description_width": "initial",
            "_view_module": "@jupyter-widgets/base",
            "_model_module_version": "1.5.0",
            "_view_count": null,
            "_view_module_version": "1.2.0",
            "bar_color": null,
            "_model_module": "@jupyter-widgets/controls"
          }
        },
        "9ebfd178fee048f6ade2d65cb0aaf233": {
          "model_module": "@jupyter-widgets/base",
          "model_name": "LayoutModel",
          "state": {
            "_view_name": "LayoutView",
            "grid_template_rows": null,
            "right": null,
            "justify_content": null,
            "_view_module": "@jupyter-widgets/base",
            "overflow": null,
            "_model_module_version": "1.2.0",
            "_view_count": null,
            "flex_flow": null,
            "width": null,
            "min_width": null,
            "border": null,
            "align_items": null,
            "bottom": null,
            "_model_module": "@jupyter-widgets/base",
            "top": null,
            "grid_column": null,
            "overflow_y": null,
            "overflow_x": null,
            "grid_auto_flow": null,
            "grid_area": null,
            "grid_template_columns": null,
            "flex": null,
            "_model_name": "LayoutModel",
            "justify_items": null,
            "grid_row": null,
            "max_height": null,
            "align_content": null,
            "visibility": null,
            "align_self": null,
            "height": null,
            "min_height": null,
            "padding": null,
            "grid_auto_rows": null,
            "grid_gap": null,
            "max_width": null,
            "order": null,
            "_view_module_version": "1.2.0",
            "grid_template_areas": null,
            "object_position": null,
            "object_fit": null,
            "grid_auto_columns": null,
            "margin": null,
            "display": null,
            "left": null
          }
        },
        "89feae584c7041a0a1b1000d26262000": {
          "model_module": "@jupyter-widgets/controls",
          "model_name": "DescriptionStyleModel",
          "state": {
            "_view_name": "StyleView",
            "_model_name": "DescriptionStyleModel",
            "description_width": "",
            "_view_module": "@jupyter-widgets/base",
            "_model_module_version": "1.5.0",
            "_view_count": null,
            "_view_module_version": "1.2.0",
            "_model_module": "@jupyter-widgets/controls"
          }
        },
        "17a872185ac841979749824b2c9bd09a": {
          "model_module": "@jupyter-widgets/base",
          "model_name": "LayoutModel",
          "state": {
            "_view_name": "LayoutView",
            "grid_template_rows": null,
            "right": null,
            "justify_content": null,
            "_view_module": "@jupyter-widgets/base",
            "overflow": null,
            "_model_module_version": "1.2.0",
            "_view_count": null,
            "flex_flow": null,
            "width": null,
            "min_width": null,
            "border": null,
            "align_items": null,
            "bottom": null,
            "_model_module": "@jupyter-widgets/base",
            "top": null,
            "grid_column": null,
            "overflow_y": null,
            "overflow_x": null,
            "grid_auto_flow": null,
            "grid_area": null,
            "grid_template_columns": null,
            "flex": null,
            "_model_name": "LayoutModel",
            "justify_items": null,
            "grid_row": null,
            "max_height": null,
            "align_content": null,
            "visibility": null,
            "align_self": null,
            "height": null,
            "min_height": null,
            "padding": null,
            "grid_auto_rows": null,
            "grid_gap": null,
            "max_width": null,
            "order": null,
            "_view_module_version": "1.2.0",
            "grid_template_areas": null,
            "object_position": null,
            "object_fit": null,
            "grid_auto_columns": null,
            "margin": null,
            "display": null,
            "left": null
          }
        },
        "3c32824aba064742bbf60982caff9045": {
          "model_module": "@jupyter-widgets/controls",
          "model_name": "HBoxModel",
          "state": {
            "_view_name": "HBoxView",
            "_dom_classes": [],
            "_model_name": "HBoxModel",
            "_view_module": "@jupyter-widgets/controls",
            "_model_module_version": "1.5.0",
            "_view_count": null,
            "_view_module_version": "1.5.0",
            "box_style": "",
            "layout": "IPY_MODEL_56b38d910eeb4f778b33fa71d9064f8d",
            "_model_module": "@jupyter-widgets/controls",
            "children": [
              "IPY_MODEL_a0b1580dfc2a473282acd40cd72be910",
              "IPY_MODEL_c9e7c8620dd64d7f9f297e689ea8847c"
            ]
          }
        },
        "56b38d910eeb4f778b33fa71d9064f8d": {
          "model_module": "@jupyter-widgets/base",
          "model_name": "LayoutModel",
          "state": {
            "_view_name": "LayoutView",
            "grid_template_rows": null,
            "right": null,
            "justify_content": null,
            "_view_module": "@jupyter-widgets/base",
            "overflow": null,
            "_model_module_version": "1.2.0",
            "_view_count": null,
            "flex_flow": null,
            "width": null,
            "min_width": null,
            "border": null,
            "align_items": null,
            "bottom": null,
            "_model_module": "@jupyter-widgets/base",
            "top": null,
            "grid_column": null,
            "overflow_y": null,
            "overflow_x": null,
            "grid_auto_flow": null,
            "grid_area": null,
            "grid_template_columns": null,
            "flex": null,
            "_model_name": "LayoutModel",
            "justify_items": null,
            "grid_row": null,
            "max_height": null,
            "align_content": null,
            "visibility": null,
            "align_self": null,
            "height": null,
            "min_height": null,
            "padding": null,
            "grid_auto_rows": null,
            "grid_gap": null,
            "max_width": null,
            "order": null,
            "_view_module_version": "1.2.0",
            "grid_template_areas": null,
            "object_position": null,
            "object_fit": null,
            "grid_auto_columns": null,
            "margin": null,
            "display": null,
            "left": null
          }
        },
        "a0b1580dfc2a473282acd40cd72be910": {
          "model_module": "@jupyter-widgets/controls",
          "model_name": "FloatProgressModel",
          "state": {
            "_view_name": "ProgressView",
            "style": "IPY_MODEL_9f23c377d2d64743906d01b6557c7a30",
            "_dom_classes": [],
            "description": "100%",
            "_model_name": "FloatProgressModel",
            "bar_style": "",
            "max": 8,
            "_view_module": "@jupyter-widgets/controls",
            "_model_module_version": "1.5.0",
            "value": 8,
            "_view_count": null,
            "_view_module_version": "1.5.0",
            "orientation": "horizontal",
            "min": 0,
            "description_tooltip": null,
            "_model_module": "@jupyter-widgets/controls",
            "layout": "IPY_MODEL_d7a0eef4d5a94d2d986cfd70f8da1dab"
          }
        },
        "c9e7c8620dd64d7f9f297e689ea8847c": {
          "model_module": "@jupyter-widgets/controls",
          "model_name": "HTMLModel",
          "state": {
            "_view_name": "HTMLView",
            "style": "IPY_MODEL_a32d48efd9984d1387d360e89b0bc953",
            "_dom_classes": [],
            "description": "",
            "_model_name": "HTMLModel",
            "placeholder": "​",
            "_view_module": "@jupyter-widgets/controls",
            "_model_module_version": "1.5.0",
            "value": " 8/8 [00:00&lt;00:00, 12.39it/s]",
            "_view_count": null,
            "_view_module_version": "1.5.0",
            "description_tooltip": null,
            "_model_module": "@jupyter-widgets/controls",
            "layout": "IPY_MODEL_21dab3c38b8c4013be13085cfe852945"
          }
        },
        "9f23c377d2d64743906d01b6557c7a30": {
          "model_module": "@jupyter-widgets/controls",
          "model_name": "ProgressStyleModel",
          "state": {
            "_view_name": "StyleView",
            "_model_name": "ProgressStyleModel",
            "description_width": "initial",
            "_view_module": "@jupyter-widgets/base",
            "_model_module_version": "1.5.0",
            "_view_count": null,
            "_view_module_version": "1.2.0",
            "bar_color": null,
            "_model_module": "@jupyter-widgets/controls"
          }
        },
        "d7a0eef4d5a94d2d986cfd70f8da1dab": {
          "model_module": "@jupyter-widgets/base",
          "model_name": "LayoutModel",
          "state": {
            "_view_name": "LayoutView",
            "grid_template_rows": null,
            "right": null,
            "justify_content": null,
            "_view_module": "@jupyter-widgets/base",
            "overflow": null,
            "_model_module_version": "1.2.0",
            "_view_count": null,
            "flex_flow": null,
            "width": null,
            "min_width": null,
            "border": null,
            "align_items": null,
            "bottom": null,
            "_model_module": "@jupyter-widgets/base",
            "top": null,
            "grid_column": null,
            "overflow_y": null,
            "overflow_x": null,
            "grid_auto_flow": null,
            "grid_area": null,
            "grid_template_columns": null,
            "flex": null,
            "_model_name": "LayoutModel",
            "justify_items": null,
            "grid_row": null,
            "max_height": null,
            "align_content": null,
            "visibility": null,
            "align_self": null,
            "height": null,
            "min_height": null,
            "padding": null,
            "grid_auto_rows": null,
            "grid_gap": null,
            "max_width": null,
            "order": null,
            "_view_module_version": "1.2.0",
            "grid_template_areas": null,
            "object_position": null,
            "object_fit": null,
            "grid_auto_columns": null,
            "margin": null,
            "display": null,
            "left": null
          }
        },
        "a32d48efd9984d1387d360e89b0bc953": {
          "model_module": "@jupyter-widgets/controls",
          "model_name": "DescriptionStyleModel",
          "state": {
            "_view_name": "StyleView",
            "_model_name": "DescriptionStyleModel",
            "description_width": "",
            "_view_module": "@jupyter-widgets/base",
            "_model_module_version": "1.5.0",
            "_view_count": null,
            "_view_module_version": "1.2.0",
            "_model_module": "@jupyter-widgets/controls"
          }
        },
        "21dab3c38b8c4013be13085cfe852945": {
          "model_module": "@jupyter-widgets/base",
          "model_name": "LayoutModel",
          "state": {
            "_view_name": "LayoutView",
            "grid_template_rows": null,
            "right": null,
            "justify_content": null,
            "_view_module": "@jupyter-widgets/base",
            "overflow": null,
            "_model_module_version": "1.2.0",
            "_view_count": null,
            "flex_flow": null,
            "width": null,
            "min_width": null,
            "border": null,
            "align_items": null,
            "bottom": null,
            "_model_module": "@jupyter-widgets/base",
            "top": null,
            "grid_column": null,
            "overflow_y": null,
            "overflow_x": null,
            "grid_auto_flow": null,
            "grid_area": null,
            "grid_template_columns": null,
            "flex": null,
            "_model_name": "LayoutModel",
            "justify_items": null,
            "grid_row": null,
            "max_height": null,
            "align_content": null,
            "visibility": null,
            "align_self": null,
            "height": null,
            "min_height": null,
            "padding": null,
            "grid_auto_rows": null,
            "grid_gap": null,
            "max_width": null,
            "order": null,
            "_view_module_version": "1.2.0",
            "grid_template_areas": null,
            "object_position": null,
            "object_fit": null,
            "grid_auto_columns": null,
            "margin": null,
            "display": null,
            "left": null
          }
        }
      }
    }
  },
  "cells": [
    {
      "cell_type": "markdown",
      "metadata": {
        "id": "view-in-github",
        "colab_type": "text"
      },
      "source": [
        "<a href=\"https://colab.research.google.com/github/EitanVilker/CompLingProject/blob/main/attention_translation.ipynb\" target=\"_parent\"><img src=\"https://colab.research.google.com/assets/colab-badge.svg\" alt=\"Open In Colab\"/></a>"
      ]
    },
    {
      "cell_type": "markdown",
      "metadata": {
        "id": "W4qtx9nggECt"
      },
      "source": [
        "# Example 6.4: Attention in Machine Translation\n",
        "Dartmouth College, LING48, Spring 2021<br>\n",
        "Rolando Coto-Solano (Rolando.A.Coto.Solano@dartmouth.edu)\n",
        "\n",
        "Please read the following posts so you can study more about attention in transformers:\n",
        "\n",
        "(1)\thttp://jalammar.github.io/visualizing-neural-machine-translation-mechanics-of-seq2seq-models-with-attention/<br>\n",
        "(2)\thttp://jalammar.github.io/illustrated-bert/<br>\n",
        "(3)\thttp://jalammar.github.io/illustrated-gpt2/\n",
        "\n",
        "You need to perform four tasks:\n",
        "\n",
        "(1)\tChange the number of epochs from 10 to 4. Then, execute all of the code. (Don’t leave it for the last minute; it should take about 45 minutes for the model to train). At the very end, the code will draw an attention plot that shows the attention matrix between the German sentence and the resulting English sentence. Copy-paste this plot onto a PDF/LibreOffice/Word document.\n",
        "\n",
        "(2)\tExplain the plot. Are there English words that are being generated by paying attention to more than one German word? \n",
        "\n",
        "(3)\tThe German sentence has an element labelled \\<unk\\>. What is it? What does it mean for the input sentence to have this?\n",
        "\n",
        "(4)\tReplace the German sentence _ein boston terrier läuft über saftig-grünes gras vor einem weißen zaun_ with any other sentence in German and then plot the attention matrix for that sentence. How is it behaving? (Remember to include a screen capture in your PDF/LibreOffice/Word document).\n"
      ]
    },
    {
      "cell_type": "markdown",
      "metadata": {
        "id": "fpCCguo-1m_l"
      },
      "source": [
        "This post is the first in a series of articles about [natural language processing](https://en.wikipedia.org/wiki/Natural_language_processing) (NLP), a subfield of machine learning concerning the \n",
        "interaction between computers and human language. This article will be focused on *attention*, a mechanism that forms the backbone of many state-of-the art language models, including Google's BERT ([Devlin et al., 2018](https://arxiv.org/abs/1810.04805)), and OpenAI's GPT-2 ([Radford et al., 2019](https://openai.com/blog/better-language-models/)). "
      ]
    },
    {
      "cell_type": "markdown",
      "metadata": {
        "id": "kPWt1COV1m_u"
      },
      "source": [
        "First introduced in the paper *Neural Machine Translation by Jointly Learning to Align and Translate* ([Bahdanau et al., 2014](https://arxiv.org/abs/1409.0473)), attention was an improvement to the classic sequence-to-sequence model for language translation. Instead of trying to decode a translated sentence from single fixed-length vector encoding of the source sentence, the attention mechanism aims to create an alignment between the source words and target words. This alignment allows the model to take all of the source words into account when predicting each target word."
      ]
    },
    {
      "cell_type": "markdown",
      "metadata": {
        "id": "U4BFJTCu1m_u"
      },
      "source": [
        "The next two sections of this post will consist of portions of the paper *Effective Approaches to Attention-based Neural Machine Translation* ([Luong et al., 2015](https://arxiv.org/abs/1508.04025)) along with my own comments and code in blockquotes.\n",
        "\n",
        "> Before continuing, it is important to have an understanding of LSTM networks. [Here](https://colah.github.io/posts/2015-08-Understanding-LSTMs/) is a great resource. The format of this post was inspired by [The Annotated Transformer](https://nlp.seas.harvard.edu/2018/04/03/attention.html)."
      ]
    },
    {
      "cell_type": "code",
      "metadata": {
        "id": "cih423At1m_u"
      },
      "source": [
        "import torch\n",
        "import torch.nn as nn\n",
        "import torch.nn.functional as F\n",
        "import random\n",
        "from tqdm.notebook import tqdm\n",
        "import numpy as np\n",
        "\n",
        "%matplotlib inline\n",
        "import matplotlib.pyplot as plt\n",
        "import matplotlib.ticker as ticker"
      ],
      "execution_count": null,
      "outputs": []
    },
    {
      "cell_type": "markdown",
      "metadata": {
        "id": "a3twCkWS1m_v"
      },
      "source": [
        "## Attention-based Models\n",
        "\n",
        "Our various attention-based models are classified\n",
        "into two broad categories, global and local. These\n",
        "classes differ in terms of whether the \"attention\"\n",
        "is placed on all source positions or on only a few\n",
        "source positions. We illustrate these two model\n",
        "types in Figure 2 and 3 respectively.\n",
        "    \n",
        "Common to these two types of models is the fact\n",
        "that at each time step $t$ in the decoding phase, both\n",
        "approaches first take as input the hidden state $h_t$\n",
        "at the top layer of a stacking LSTM. The goal is\n",
        "then to derive a context vector $c_t$\n",
        "that captures relevant source-side information to help predict the\n",
        "current target word $y_t$. While these models differ\n",
        "in how the context vector $c_t$\n",
        "is derived, they share\n",
        "the same subsequent steps.\n",
        "Specifically, given the target hidden state $h_t$ and\n",
        "the source-side context vector $c_t$, we employ a\n",
        "simple concatenation layer to combine the information from both vectors:\n",
        "\n",
        "$$ \\tilde{h_t} = \\tanh(W_c[c_t;h_t])     $$\n",
        "\n",
        "The attentional vector $\\tilde{h_t}$\n",
        "is then fed through the\n",
        "softmax layer to produce the predictive distribution formulated as:\n",
        "\n",
        "$$p(y_t | y_{\\lt t}, x) = \\text{softmax}(W_s\\tilde{h_t}) $$"
      ]
    },
    {
      "cell_type": "markdown",
      "metadata": {
        "id": "_CZDRwCp1m_v"
      },
      "source": [
        "The attentional vector $\\tilde{h_t}$\n",
        "is then fed through the\n",
        "softmax layer to produce the predictive distribution formulated as:"
      ]
    },
    {
      "cell_type": "markdown",
      "metadata": {
        "id": "9qMlv9y-1m_v"
      },
      "source": [
        "> With this information we can implement the decoder portion of our model, leaving the context vector $c_t$ to be calculated by our (not yet written) `Attention` module."
      ]
    },
    {
      "cell_type": "code",
      "metadata": {
        "id": "Ly2cx-AD1m_w"
      },
      "source": [
        "class Decoder(nn.Module):\n",
        "    \"\"\"\n",
        "    Decode output from hidden state and context\n",
        "    \"\"\"\n",
        "    def __init__(self, output_dim, embed_dim, hidden_dim, num_layers, dropout):\n",
        "        super(Decoder, self).__init__()\n",
        "        self.output_dim = output_dim\n",
        "        self.embed = nn.Embedding(output_dim, embed_dim)\n",
        "        # stacking LSTM\n",
        "        self.lstm = nn.LSTM(embed_dim, hidden_dim, n_layers, dropout=dropout)\n",
        "        self.attention = Attention(hidden_dim) # we'll get to later\n",
        "        self.wc = nn.Linear(hidden_dim * 2, hidden_dim)\n",
        "        self.ws = nn.Linear(hidden_dim, output_dim)\n",
        "        self.dropout = nn.Dropout(dropout)\n",
        "        \n",
        "    def forward(self, trg, hidden, encoder_out):\n",
        "        trg = trg.unsqueeze(0)\n",
        "        embed = self.dropout(self.embed(trg))\n",
        "        decoder_out, hidden = self.lstm(embed, hidden)\n",
        "        \n",
        "        # we'll go over how these are computed later\n",
        "        atten, context = self.attention(decoder_out, encoder_out)\n",
        "        \n",
        "        # \"We employ a simple concatenation layer to combine the \n",
        "        # information from both vectors:\"\n",
        "        atten_hidden = self.wc(torch.cat((decoder_out, context), dim=2)).tanh()\n",
        "\n",
        "        # \"The attentional vector ~h_t is then fed through the softmax layer\n",
        "        # to produce the predictive distribution:\"\n",
        "        out = self.ws(atten_hidden.squeeze(0))\n",
        "        # softmax will be included in loss function\n",
        "        \n",
        "        return out, hidden, atten"
      ],
      "execution_count": null,
      "outputs": []
    },
    {
      "cell_type": "markdown",
      "metadata": {
        "id": "iP6Bk5OC1m_w"
      },
      "source": [
        "We now detail how each model type computes\n",
        "the source-side context vector $c_t$\n",
        "\n",
        "![](https://github.com/teddykoker/blog/blob/master/_notebooks/global_attention.png?raw=1)\n",
        "\n",
        "Figure 2: **Global attentional model** - at each time\n",
        "step $t$, the model infers a variable-length alignment weight vector $a_t$ based on the current target\n",
        "state $h_t$ and all source states $\\overline{h}_s$. A global context vector $c_t$\n",
        "is then computed as the weighted average, according to $a_t$, over all the source state\n",
        "\n",
        "## Global Attention\n",
        "\n",
        "The idea of a global attentional model is to consider all the hidden states of the encoder when deriving the context vector $c_t$. In this model type, a variable-length alignment vector $a_t$, whose size\n",
        "equals the number of time steps on the source side,\n",
        "is derived by comparing the current target hidden\n",
        "state $h_t$ with each source hidden state $\\overline{h}_s$:\n",
        "\n",
        "$$ a_t(s)=\\text{align}(h_t, \\overline{h}_s) $$\n",
        "\n",
        "$$ =\\frac{\\exp(\\text{score}(h_t, \\overline{h}_s))}{\\sum_{s'}\\exp(\\text{score}(h_t, \\overline{h}_{s'}))}$$\n",
        "\n",
        "Here, $\\text{score}$ is referred as a content-based function\n",
        "for which we consider three different alternatives:\n",
        "\n",
        "$$\n",
        "\\text{score}(h_t, \\overline{h}_s)\\!=\\!\\begin{cases}\n",
        "    h_t^\\top \\overline{h}_s & dot\\\\\n",
        "    h_t^\\top W_a \\overline{h}_s & general\\\\\n",
        "    v_a^\\top \\tanh(W_a[h_t;\\overline{h}_s]) & concat\n",
        "\\end{cases}\n",
        "$$\n",
        "\n",
        "\n",
        "Given the alignment vector as weights, the context\n",
        "vector $c_t$ is computed as the weighted average over\n",
        "all the source hidden states."
      ]
    },
    {
      "cell_type": "code",
      "metadata": {
        "id": "sac2OBRr1m_x"
      },
      "source": [
        "class Attention(nn.Module):\n",
        "    \"\"\"\n",
        "    Compute alignment vector and context vector from hidden states\n",
        "    \"\"\"\n",
        "    def __init__(self, hidden_dim, score_fn=\"general\"):\n",
        "        super(Attention, self).__init__()\n",
        "        self.score_fn = score_fn\n",
        "        if score_fn == \"general\":\n",
        "            self.w = nn.Linear(hidden_dim, hidden_dim)\n",
        "        if score_fn == \"concat\":\n",
        "            self.w = nn.Linear(hidden_dim * 2, hidden_dim)\n",
        "            self.v = torch.nn.Parameter(torch.FloatTensor(hidden_dim))\n",
        "            \n",
        "    def score(self, decoder_out, encoder_outs):\n",
        "        if self.score_fn == \"dot\":\n",
        "            return torch.sum(decoder_out * encoder_outs, dim=2)\n",
        "        if self.score_fn == \"general\":\n",
        "            return torch.sum(decoder_out * self.w(encoder_outs), dim=2)\n",
        "        if self.score_fn == \"concat\":\n",
        "            decoder_outs = decoder_out.repeat(encoder_outs.shape[0], 1, 1)\n",
        "            cat = torch.cat((decoder_outs, encoder_outs))\n",
        "            return torch.sum(self.v * self.w(cat), dim=2)\n",
        "            \n",
        "    def forward(self, decoder_out, encoder_outs):\n",
        "        score = self.score(decoder_out, encoder_outs)\n",
        "        a = F.softmax(score, dim=0)\n",
        "            \n",
        "        # \"Given the alignment vector as weights, the context vector \n",
        "        # c_t is computed as the weighted average over all the source \n",
        "        # hidden states:\"\n",
        "        context = torch.bmm(\n",
        "            a.transpose(1, 0).unsqueeze(1),\n",
        "            encoder_outs.transpose(1, 0)\n",
        "        ).transpose(1, 0)\n",
        "        return a, context"
      ],
      "execution_count": null,
      "outputs": []
    },
    {
      "cell_type": "markdown",
      "metadata": {
        "id": "uLI3sfHz1m_x"
      },
      "source": [
        "> We implemented an attention model that can perform each of the three $\\text{score}$ functions depending on the parameter `score_fn`. *Note: for brevity, we have skipped over the local attention portion of the paper*. With the `Attention` and `Decoder` modules complete, all we need now is a simple encoder, consisting of some stacked LSTMs and a model that puts all of the modules together:"
      ]
    },
    {
      "cell_type": "code",
      "metadata": {
        "id": "NFXL9KMU1m_y"
      },
      "source": [
        "class Encoder(nn.Module):\n",
        "    \"\"\"\n",
        "    Stacked LSTM encoder\n",
        "    \"\"\"\n",
        "    def __init__(self, input_dim, embed_dim, hidden_dim, \n",
        "                 n_layers, dropout):\n",
        "        super(Encoder, self).__init__()\n",
        "        self.embed = nn.Embedding(input_dim, embed_dim)\n",
        "        self.lstm = nn.LSTM(embed_dim, hidden_dim, n_layers, dropout=dropout)\n",
        "        self.dropout = nn.Dropout(dropout) \n",
        "        \n",
        "    def forward(self, src):\n",
        "        embed = self.dropout(self.embed(src))\n",
        "        out, hidden = self.lstm(embed)\n",
        "        return self.dropout(out), hidden\n",
        "    \n",
        "\n",
        "class Model(nn.Module):\n",
        "    \"\"\"\n",
        "    Sequence to Sequence model with attention\n",
        "    \"\"\"\n",
        "    def __init__(self, encoder, decoder):\n",
        "        super(Model, self).__init__()\n",
        "        self.encoder = encoder\n",
        "        self.decoder = decoder\n",
        "    \n",
        "    def forward(self, src, trg, teacher_force_ratio = 0.5):\n",
        "        outs = torch.zeros(\n",
        "            trg.shape[0], trg.shape[1], self.decoder.output_dim\n",
        "        ).to(src.device)\n",
        "        encoder_out, hidden = self.encoder(src)\n",
        "        \n",
        "        x = trg[0]\n",
        "        for t in range(1, trg.shape[0]):\n",
        "            outs[t], hidden, _ = self.decoder(x, hidden, encoder_out)\n",
        "            x = trg[t] if random.random() < teacher_force_ratio else outs[t].argmax(1)\n",
        "            \n",
        "        return outs"
      ],
      "execution_count": null,
      "outputs": []
    },
    {
      "cell_type": "markdown",
      "metadata": {
        "id": "SPfbnZLX1m_y"
      },
      "source": [
        "> With the model implementation complete, we are ready to train. The remainder of the post will be my own words and figures."
      ]
    },
    {
      "cell_type": "markdown",
      "metadata": {
        "id": "Kfe4wWFv1m_z"
      },
      "source": [
        "## Experiments\n",
        "\n",
        "The original paper trained and evaluated on the [WMT14](http://www.statmt.org/wmt14/translation-task.html) German-English translation task, with a training set of 4.5 million sentence pairs. Since their implementation took \"7 - 10 days to completely train a model,\" we will opt for a much smaller training/evaluation dataset: Multi30K ([Elliott et al., 2016](https://arxiv.org/abs/1605.00459)). This dataset consists of 30 thousand English-German sentence pairs, and we will be able to train the model on a single GPU in less than 31 minutes."
      ]
    },
    {
      "cell_type": "code",
      "metadata": {
        "id": "d079iicoQTMI"
      },
      "source": [
        "import spacy"
      ],
      "execution_count": null,
      "outputs": []
    },
    {
      "cell_type": "code",
      "metadata": {
        "id": "9YYcn_7L_6zJ"
      },
      "source": [
        "#!python -m spacy download de_core_news_sm\n",
        "from spacy.lang.de import German\n",
        "spacy_de = German()"
      ],
      "execution_count": null,
      "outputs": []
    },
    {
      "cell_type": "code",
      "metadata": {
        "id": "xABy-nLuQNoh"
      },
      "source": [
        "# Legacy loaders: https://pypi.org/project/torchtext/\n",
        "from torchtext.legacy.data import Field, BucketIterator\n",
        "from torchtext.legacy.datasets import Multi30k\n",
        "\n",
        "# tokenizers\n",
        "spacy_en = spacy.load('en')"
      ],
      "execution_count": null,
      "outputs": []
    },
    {
      "cell_type": "code",
      "metadata": {
        "id": "bOobQBZB1m_z"
      },
      "source": [
        "#It takes about 31 minutes\n",
        "\n",
        "tokenize_de = lambda text: [tok.text for tok in spacy_de.tokenizer(text)]\n",
        "tokenize_en = lambda text: [tok.text for tok in spacy_en.tokenizer(text)]\n",
        "\n",
        "# fields\n",
        "SRC = Field(tokenize=tokenize_de, init_token='<sos>',\n",
        "            eos_token=\"<eos>\", lower=True)\n",
        "TRG = Field(tokenize=tokenize_de, init_token='<sos>',\n",
        "            eos_token=\"<eos>\", lower=True)\n",
        "\n",
        "# data\n",
        "train_data, valid_data, test_data = Multi30k.splits(('.de', '.en'), (SRC, TRG))\n",
        "SRC.build_vocab(train_data, min_freq=2)\n",
        "TRG.build_vocab(train_data, min_freq=2)"
      ],
      "execution_count": null,
      "outputs": []
    },
    {
      "cell_type": "markdown",
      "metadata": {
        "id": "ZqTaLdkJ1m_z"
      },
      "source": [
        "Since we're working with less data, we can make our model smaller as well. The paper uses 4 layers for their LSTM models, each with 1000 cells, and 1000-dimensional embeddings. We will use 2 layers for our LSTM models, each with 512 cells, and 256-dimensional embeddings. We will, however, use the same dropout probability (0.2), batch size (128) and uniform weight initialization ($[-0.1, 0.1]$):"
      ]
    },
    {
      "cell_type": "code",
      "metadata": {
        "id": "36FqPIjU1m_z"
      },
      "source": [
        "input_dim = len(SRC.vocab)\n",
        "output_dim = len(TRG.vocab)\n",
        "embed_dim = 256\n",
        "hidden_dim = 512\n",
        "n_layers = 2\n",
        "dropout = 0.2\n",
        "batch_size = 128\n",
        "device = torch.device('cuda:0' if torch.cuda.is_available() else 'cpu')\n",
        "\n",
        "def init_weights(model):\n",
        "    for param in model.parameters():\n",
        "        nn.init.uniform_(param.data, -0.1, 0.1)\n",
        "\n",
        "train_loader, valid_loader, test_loader = BucketIterator.splits(\n",
        "    (train_data, valid_data, test_data),\n",
        "    batch_size=batch_size,\n",
        "    device=device\n",
        ")\n",
        "\n",
        "encoder = Encoder(input_dim, embed_dim, hidden_dim, n_layers, dropout)\n",
        "\n",
        "decoder = Decoder(output_dim, embed_dim, hidden_dim, n_layers, dropout)\n",
        "model = Model(encoder, decoder).to(device)\n",
        "model.apply(init_weights);"
      ],
      "execution_count": null,
      "outputs": []
    },
    {
      "cell_type": "markdown",
      "metadata": {
        "id": "Ohkd-1qk1m_0"
      },
      "source": [
        "### Training\n",
        "\n",
        "We now fit the model to our training set using the Adam optimizer and cross-entropy loss:"
      ]
    },
    {
      "cell_type": "code",
      "metadata": {
        "id": "vczLAGrl1m_0",
        "colab": {
          "base_uri": "https://localhost:8080/",
          "height": 17,
          "referenced_widgets": [
            "eb22d1bf80394cf09733940e625b7775",
            "7352c84ba4df4cfba6388aefd66f7039",
            "c5772504017848cf9fb1cb90bdd96a9e",
            "6400bf99a562415488ae81cc000a4736",
            "d2eb1118d46249808f81ca96313ccf46",
            "5304910d6e854b558b01ae1b8e2a1e20",
            "f79cbaa4b84d416e98e900c1ca2d0f85",
            "cc7bef0612dd468685c69fd5781adb18",
            "a460881152b94e27a81cb3aa9d20ad56",
            "8f4a06a5e8f84e6e931a1b20d49ccd46",
            "918265f5f2e3485eab0bbb3238692bf0",
            "3565f183a96c4fd4800dbba2ea346681",
            "8a16c7b1b60347f0839af3864d2b34d4",
            "f2263eeffd574d0f9522de22b12b4f4b",
            "f2feb8441b0148f593bed6927df40f27",
            "b74ed17d100c43b9935554221aa0ba85",
            "dcd4d30dcfbb4a9bbfb03fea2ae35d56",
            "8db5c4e471d34ca79efa4c3d50d5fe0b",
            "b2fefa565c984493bb2a271a1397f447",
            "fda0420a719d449a85fbfb31d119058f",
            "1f3d03cfb2bb44348c5ea77c65dd2326",
            "c44279178dce4d4a8318b47581e0df8a",
            "77069b711def41d88d8e6aeed7883983",
            "2fdb6d66564749ae92a6a08b45c355fe",
            "08aea6ffaa05467f87c4fe4e4a5ec5c6",
            "2d9adb22689748f39477d9271aa3bb80",
            "0f794ad9b9b54918933c07edc9b18a0f",
            "e36597dbf4524b3dbe964475710b4568",
            "9f3866c6f09c462e9e12b721067c953d",
            "30e4dfb6d9414af6ac79ecfafc6fbb9a",
            "fe5677fa46a9445b8e0b744328bd7c6f",
            "875c0ad7763644a48da0b39d17cc771d",
            "dcc18185af8e470ca9b0a00a8ff26c97",
            "02196456c39943c7879b52f20b9acf44",
            "826c00c455f54a208398bde6e8dbcb0d",
            "389307fb8b644aa29ddbcacf3fe14e95",
            "ec65ba3d540f48549bd01180dcce1c49",
            "8b9e0365823b4cd7a0998c10716b930a",
            "a4f5fb362cdd4d22a3108e5cd3c39448",
            "e12cf64b6d104622bef6b7426f7ef72c",
            "0acf140f254a4a7b992b24fb5468616c",
            "9c7d50dcd4d44b96814b3828040ee988",
            "8fca6631b74b478f80e2c19da0bbf5b0",
            "f2b08553f2bf4b818447e3c15a49956c",
            "6c19269d15af46f6bcbae2dc11b6ff28",
            "79a5aadb877d415c98a123a10e3ae381",
            "219631db45ca48d4be8a13e7a36fc944",
            "1405b97daeeb4a65b97dd24da5af4e89",
            "279d9fead46d4764b4117cf4944ada8d",
            "5403ee4487f1407ba25114f61268b2d5",
            "dc06d86ea0594c058dd790d81e786fbc",
            "8f8dea59291d4b2585deb4d45eba4d3d",
            "a32312bcce634fb2a6a86fe046175c25",
            "9ebfd178fee048f6ade2d65cb0aaf233",
            "89feae584c7041a0a1b1000d26262000",
            "17a872185ac841979749824b2c9bd09a",
            "3c32824aba064742bbf60982caff9045",
            "56b38d910eeb4f778b33fa71d9064f8d",
            "a0b1580dfc2a473282acd40cd72be910",
            "c9e7c8620dd64d7f9f297e689ea8847c",
            "9f23c377d2d64743906d01b6557c7a30",
            "d7a0eef4d5a94d2d986cfd70f8da1dab",
            "a32d48efd9984d1387d360e89b0bc953",
            "21dab3c38b8c4013be13085cfe852945"
          ]
        },
        "outputId": "0bf2e99c-42dc-4978-9e02-9512a81a6e21"
      },
      "source": [
        "# With a GPU it takes about 7~15 mins\n",
        "\n",
        "optimizer = torch.optim.Adam(model.parameters())\n",
        "criterion = nn.CrossEntropyLoss(ignore_index=TRG.vocab.stoi[TRG.pad_token])\n",
        "num_epochs = 4\n",
        "\n",
        "def step(model, data, criterion, train=False, optimizer=None):\n",
        "    model.train() if train else model.eval()\n",
        "    total_loss = 0\n",
        "    for batch in tqdm(data, leave=False):\n",
        "        if train: optimizer.zero_grad()\n",
        "        pred = model(batch.src, batch.trg)\n",
        "        loss = criterion(pred.view(-1, pred.size(2)), batch.trg.view(-1))\n",
        "        if train:\n",
        "            loss.backward()\n",
        "            torch.nn.utils.clip_grad_norm_(model.parameters(), 1.0)\n",
        "            optimizer.step()\n",
        "        total_loss += loss.item()\n",
        "    return total_loss / len(data)\n",
        "\n",
        "best_loss = float('inf')\n",
        "train_loss, valid_loss = np.zeros((2, num_epochs))\n",
        "for e in range(num_epochs):\n",
        "    train_loss[e] = step(model, train_loader, criterion, train=True, optimizer=optimizer)\n",
        "    valid_loss[e] = step(model, valid_loader, criterion)\n",
        "    #print(f\"epoch: {e} train_loss: {train_loss[e]:.2f} valid_loss: {valid_loss[e]:.2f}\")\n",
        "    if valid_loss[e] < best_loss:\n",
        "        torch.save(model.state_dict(), 'model.pt')\n",
        "        best_loss = valid_loss[e]"
      ],
      "execution_count": null,
      "outputs": [
        {
          "output_type": "display_data",
          "data": {
            "application/vnd.jupyter.widget-view+json": {
              "model_id": "eb22d1bf80394cf09733940e625b7775",
              "version_minor": 0,
              "version_major": 2
            },
            "text/plain": [
              "HBox(children=(FloatProgress(value=0.0, max=227.0), HTML(value='')))"
            ]
          },
          "metadata": {
            "tags": []
          }
        },
        {
          "output_type": "stream",
          "text": [
            "\r"
          ],
          "name": "stdout"
        },
        {
          "output_type": "display_data",
          "data": {
            "application/vnd.jupyter.widget-view+json": {
              "model_id": "a460881152b94e27a81cb3aa9d20ad56",
              "version_minor": 0,
              "version_major": 2
            },
            "text/plain": [
              "HBox(children=(FloatProgress(value=0.0, max=8.0), HTML(value='')))"
            ]
          },
          "metadata": {
            "tags": []
          }
        },
        {
          "output_type": "stream",
          "text": [
            "\r"
          ],
          "name": "stdout"
        },
        {
          "output_type": "display_data",
          "data": {
            "application/vnd.jupyter.widget-view+json": {
              "model_id": "dcd4d30dcfbb4a9bbfb03fea2ae35d56",
              "version_minor": 0,
              "version_major": 2
            },
            "text/plain": [
              "HBox(children=(FloatProgress(value=0.0, max=227.0), HTML(value='')))"
            ]
          },
          "metadata": {
            "tags": []
          }
        },
        {
          "output_type": "stream",
          "text": [
            "\r"
          ],
          "name": "stdout"
        },
        {
          "output_type": "display_data",
          "data": {
            "application/vnd.jupyter.widget-view+json": {
              "model_id": "08aea6ffaa05467f87c4fe4e4a5ec5c6",
              "version_minor": 0,
              "version_major": 2
            },
            "text/plain": [
              "HBox(children=(FloatProgress(value=0.0, max=8.0), HTML(value='')))"
            ]
          },
          "metadata": {
            "tags": []
          }
        },
        {
          "output_type": "stream",
          "text": [
            "\r"
          ],
          "name": "stdout"
        },
        {
          "output_type": "display_data",
          "data": {
            "application/vnd.jupyter.widget-view+json": {
              "model_id": "dcc18185af8e470ca9b0a00a8ff26c97",
              "version_minor": 0,
              "version_major": 2
            },
            "text/plain": [
              "HBox(children=(FloatProgress(value=0.0, max=227.0), HTML(value='')))"
            ]
          },
          "metadata": {
            "tags": []
          }
        },
        {
          "output_type": "stream",
          "text": [
            "\r"
          ],
          "name": "stdout"
        },
        {
          "output_type": "display_data",
          "data": {
            "application/vnd.jupyter.widget-view+json": {
              "model_id": "0acf140f254a4a7b992b24fb5468616c",
              "version_minor": 0,
              "version_major": 2
            },
            "text/plain": [
              "HBox(children=(FloatProgress(value=0.0, max=8.0), HTML(value='')))"
            ]
          },
          "metadata": {
            "tags": []
          }
        },
        {
          "output_type": "stream",
          "text": [
            "\r"
          ],
          "name": "stdout"
        },
        {
          "output_type": "display_data",
          "data": {
            "application/vnd.jupyter.widget-view+json": {
              "model_id": "279d9fead46d4764b4117cf4944ada8d",
              "version_minor": 0,
              "version_major": 2
            },
            "text/plain": [
              "HBox(children=(FloatProgress(value=0.0, max=227.0), HTML(value='')))"
            ]
          },
          "metadata": {
            "tags": []
          }
        },
        {
          "output_type": "stream",
          "text": [
            "\r"
          ],
          "name": "stdout"
        },
        {
          "output_type": "display_data",
          "data": {
            "application/vnd.jupyter.widget-view+json": {
              "model_id": "3c32824aba064742bbf60982caff9045",
              "version_minor": 0,
              "version_major": 2
            },
            "text/plain": [
              "HBox(children=(FloatProgress(value=0.0, max=8.0), HTML(value='')))"
            ]
          },
          "metadata": {
            "tags": []
          }
        },
        {
          "output_type": "stream",
          "text": [
            "\r"
          ],
          "name": "stdout"
        }
      ]
    },
    {
      "cell_type": "code",
      "metadata": {
        "id": "xFIZjXug1m_1"
      },
      "source": [
        "plt.figure(figsize=(5, 3), dpi=300)\n",
        "plt.plot(train_loss[:10], label=\"Train\")\n",
        "plt.plot(valid_loss[:10], label=\"Valid.\")\n",
        "plt.legend(); plt.ylabel(\"Cross-Entropy Loss\"); plt.xlabel(\"Epoch\")\n",
        "plt.show()"
      ],
      "execution_count": null,
      "outputs": []
    },
    {
      "cell_type": "markdown",
      "metadata": {
        "id": "zoBODXw91m_1"
      },
      "source": [
        "### Evaluation"
      ]
    },
    {
      "cell_type": "markdown",
      "metadata": {
        "id": "-rBw07PW1m_1"
      },
      "source": [
        "Now that we have a trained model, we can test it on our test set. In addition to cross-entropy loss, another good metric we can use is [perplexity](https://en.wikipedia.org/wiki/Perplexity), which is a measurement of the models ability to predict the target translation. This can be calculated as simply $\\exp(H(p))$, where $H(p)$ is the cross-entropy loss of the model over the test set. The lower the perplexity, the better the model is at predicting the target translation."
      ]
    },
    {
      "cell_type": "code",
      "metadata": {
        "id": "rnjddLni1m_2"
      },
      "source": [
        "model.load_state_dict(torch.load(\"model.pt\"))\n",
        "test_loss = step(model, test_loader, criterion)\n",
        "print(f\"Test loss: {test_loss:.2f}\")\n",
        "print(f\"Test perplexity: {np.exp(test_loss):.2f}\")"
      ],
      "execution_count": null,
      "outputs": []
    },
    {
      "cell_type": "markdown",
      "metadata": {
        "id": "W2GIOzLw1m_2"
      },
      "source": [
        "Our model achieves a perplexity of 13.84. This is worse then the paper's best perplexity of 5.9, but there is no way to directly compare as we are using a different dataset. There are a few ways we could improve the model to better match the paper's results:\n",
        "\n",
        "1. Use bidirectional LSTM models; The model should be able to better \"understand\" the context of each word by looking at words both before and after each word.\n",
        "\n",
        "2. More training data; The model could likely benefit from more training data, such as the aforementioned WMT14 dataset.\n",
        "\n",
        "3. Larger model and ensemble; The paper used a much larger model, and a technique known as [ensemble learning](https://en.wikipedia.org/wiki/Ensemble_learning). By combining multiple model's outputs into one, we could obtain better predictive performance.\n",
        "\n",
        "With that out of the way, lets run our model on some test sentences!"
      ]
    },
    {
      "cell_type": "code",
      "metadata": {
        "id": "JadMaUgb1m_2"
      },
      "source": [
        "@torch.no_grad()\n",
        "def translate(sentence, model, device, max_len=50):\n",
        "    model.eval()\n",
        "    src = SRC.process([sentence]).to(device)\n",
        "    trg = torch.ones(1, dtype=torch.int64).to(device) * TRG.vocab.stoi[TRG.init_token]\n",
        "    trgs, attention = [], []\n",
        "    encoder_out, hidden = model.encoder(src)\n",
        "    \n",
        "    for t in range(max_len):\n",
        "        trg, hidden, atten = model.decoder(trg, hidden, encoder_out)\n",
        "        trg = trg.argmax(1)\n",
        "        trgs.append(trg)\n",
        "        attention.append(atten.T)\n",
        "        if trg == TRG.vocab.stoi[TRG.eos_token]: break\n",
        "\n",
        "    trg = [TRG.vocab.itos[i] for i in trgs]\n",
        "    src = [SRC.vocab.itos[i] for i in src]\n",
        "    attention = torch.cat(attention).cpu().numpy()[:-1, 1:]\n",
        "    return src, trg, attention"
      ],
      "execution_count": null,
      "outputs": []
    },
    {
      "cell_type": "markdown",
      "metadata": {
        "id": "YSZFPYZG1m_2"
      },
      "source": [
        "Let's take a look at our first example:"
      ]
    },
    {
      "cell_type": "code",
      "metadata": {
        "id": "kOvv0f-I1m_2",
        "colab": {
          "base_uri": "https://localhost:8080/"
        },
        "outputId": "2427169d-1aec-4e69-9c74-a6011fa2b0bd"
      },
      "source": [
        "example = 6\n",
        "src, trg = test_data[example].src, test_data[example].trg\n",
        "print(f\"Source: {' '.join(src)}\")\n",
        "print(f\"Target: {' '.join(trg)}\")"
      ],
      "execution_count": null,
      "outputs": [
        {
          "output_type": "stream",
          "text": [
            "Source: eine gruppe von menschen steht vor einem iglu .\n",
            "Target: a group of people standing in front of an igloo .\n"
          ],
          "name": "stdout"
        }
      ]
    },
    {
      "cell_type": "markdown",
      "metadata": {
        "id": "Iqxk8RZm1m_3"
      },
      "source": [
        "And now our predicted translation:"
      ]
    },
    {
      "cell_type": "code",
      "metadata": {
        "id": "fMKNjxTu1m_3",
        "colab": {
          "base_uri": "https://localhost:8080/"
        },
        "outputId": "f57acf1f-620a-49b0-f645-78ffd73475bb"
      },
      "source": [
        "src, pred, attention = translate(src, model, device)\n",
        "print(f\"Prediction: {' '.join(pred[:-1])}\")"
      ],
      "execution_count": null,
      "outputs": [
        {
          "output_type": "stream",
          "text": [
            "Prediction: a group of people standing in front of a store .\n"
          ],
          "name": "stdout"
        }
      ]
    },
    {
      "cell_type": "markdown",
      "metadata": {
        "id": "eNhnfCnr1m_3"
      },
      "source": [
        "Not bad; let's try another:"
      ]
    },
    {
      "cell_type": "code",
      "metadata": {
        "id": "tHPaeAFQ1m_3",
        "colab": {
          "base_uri": "https://localhost:8080/"
        },
        "outputId": "1674990a-5207-4e24-ee95-aa124ffc8e4b"
      },
      "source": [
        "example = 15\n",
        "src, trg = test_data[example].src, test_data[example].trg\n",
        "print(f\"Source: {' '.join(src)}\")\n",
        "print(f\"Target: {' '.join(trg)}\")"
      ],
      "execution_count": null,
      "outputs": [
        {
          "output_type": "stream",
          "text": [
            "Source: ein mädchen in einem jeanskleid läuft über einen erhöhten schwebebalken .\n",
            "Target: a girl in a jean dress is walking along a raised balance beam .\n"
          ],
          "name": "stdout"
        }
      ]
    },
    {
      "cell_type": "code",
      "metadata": {
        "id": "6WeV5cw8ZlCv",
        "colab": {
          "base_uri": "https://localhost:8080/"
        },
        "outputId": "af20e36e-525e-4359-f342-72025a0b5411"
      },
      "source": [
        "# A girl sits in the park and paints\n",
        "sentenceToTranslate = \"heute ein mädchen sitzt im park und malt.\"\n",
        "sentenceTokenized   = tokenize_de(sentenceToTranslate)\n",
        "print(sentenceTokenized)\n",
        "\n",
        "src, pred, attention = translate(sentenceTokenized, model, device)\n",
        "print(f\"Prediction: {' '.join(pred[:-1])}\")"
      ],
      "execution_count": null,
      "outputs": [
        {
          "output_type": "stream",
          "text": [
            "['heute', 'ein', 'mädchen', 'sitzt', 'im', 'park', 'und', 'malt', '.']\n",
            "Prediction: a girl sits in the park and a .\n"
          ],
          "name": "stdout"
        }
      ]
    },
    {
      "cell_type": "markdown",
      "metadata": {
        "id": "vDG6sHyy1m_3"
      },
      "source": [
        "The model did not have the word *saftig-grünes* 'lush green' in it's vocabulary, so it was unable to translate that word. Although the sentences are not perfect translations, they are fairly coherent, and certainly better than a human could do with half an hour of learning German. One great thing about the model is that we can view the alignment weights $a_t$, and see which source word the model is \"concentrating\" on for each output word."
      ]
    },
    {
      "cell_type": "code",
      "metadata": {
        "id": "FShw_n5i1m_4",
        "colab": {
          "base_uri": "https://localhost:8080/",
          "height": 1000
        },
        "outputId": "e31dd526-9b3d-4a2b-8bd5-7386c49e1f8b"
      },
      "source": [
        "def plot_attention(src, trg, attention):\n",
        "    fig = plt.figure(figsize=(4, 4), dpi=300)\n",
        "    ax = fig.add_subplot(111)\n",
        "    ax.matshow(attention)\n",
        "    ax.xaxis.set_major_locator(ticker.MultipleLocator(1))\n",
        "    ax.yaxis.set_major_locator(ticker.MultipleLocator(1))\n",
        "    ax.set_xticklabels([''] + src, rotation=60)\n",
        "    ax.set_yticklabels([''] + trg) \n",
        "    \n",
        "plot_attention(src, pred, attention)"
      ],
      "execution_count": null,
      "outputs": [
        {
          "output_type": "display_data",
          "data": {
            "image/png": "[encoded data removed]",
            "text/plain": [
              "<Figure size 1200x1200 with 1 Axes>"
            ]
          },
          "metadata": {
            "tags": [],
            "needs_background": "light"
          }
        }
      ]
    },
    {
      "cell_type": "markdown",
      "metadata": {
        "id": "dtWz_BQj1m_4"
      },
      "source": [
        "We can see that model aligns each German source word with one of the predicted words. Terrier with dog, läuft with runs, ... etc. \n",
        "\n",
        "## Conclusion\n",
        "\n",
        "Attention is an important concept to know when it comes to understanding the current state-of-the-art language models. Now that we've created a simple implementation for machine translation, we'll be able to expand upon this model for different tasks. Stay tuned for my next post, where we'll create a small version of Google's BERT ([Devlin et al., 2018](https://arxiv.org/abs/1810.04805)) from scratch. Be sure to follow me on [twitter](https://twitter.com/teddykoker) for updates! This notebook can be found on [Github](https://github.com/teddykoker/blog/blob/master/_notebooks/2020-02-25-nlp-from-scratch-annotated-attention.ipynb), or be run on [Google Colab](https://colab.research.google.com/github/teddykoker/blog/blob/master/_notebooks/2020-02-25-nlp-from-scratch-annotated-attention.ipynb)"
      ]
    }
  ]
}